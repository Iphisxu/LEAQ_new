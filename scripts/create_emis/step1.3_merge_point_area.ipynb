{
 "cells": [
  {
   "cell_type": "markdown",
   "metadata": {},
   "source": [
    "# 安徽安庆市项目\n",
    "## 本地排放清单预处理`Local Emission Inventory`\n",
    "\n",
    "---\n",
    "*@author: Evan*\\\n",
    "*@date: 2023-09-27*"
   ]
  },
  {
   "cell_type": "code",
   "execution_count": 1,
   "metadata": {},
   "outputs": [],
   "source": [
    "import xarray as xr\n",
    "import numpy as np\n",
    "import pandas as pd\n",
    "import os\n",
    "\n",
    "# silence the warning note\n",
    "import warnings\n",
    "warnings.filterwarnings(\"ignore\")\n",
    "\n",
    "import sys\n",
    "sys.path.append('../../src/')\n",
    "from namelist import *\n",
    "import findpoint as fp"
   ]
  },
  {
   "cell_type": "code",
   "execution_count": 2,
   "metadata": {},
   "outputs": [],
   "source": [
    "path      = datadir + 'step1_preliminary/meic_category/'\n",
    "pointpath = path + 'point_source/'\n",
    "areapath  = path + 'area_source/'\n",
    "\n",
    "ind_point = xr.open_dataset(pointpath + 'Industry.nc')\n",
    "ind_area  = xr.open_dataset(areapath + 'Industry.nc')\n",
    "\n",
    "pow_point = xr.open_dataset(pointpath + 'Power.nc')\n",
    "pow_area  = xr.open_dataset(areapath + 'Power.nc')\n",
    "\n",
    "res_point = xr.open_dataset(pointpath + 'Residential.nc')\n",
    "res_area  = xr.open_dataset(areapath + 'Residential.nc')\n",
    "\n",
    "tra_point = xr.open_dataset(pointpath + 'Transportation.nc')\n",
    "tra_area  = xr.open_dataset(areapath + 'Transportation.nc')"
   ]
  },
  {
   "cell_type": "code",
   "execution_count": 3,
   "metadata": {},
   "outputs": [],
   "source": [
    "ind_sum = ind_point + ind_area\n",
    "pow_sum = pow_point + pow_area\n",
    "res_sum = res_point + res_area\n",
    "tra_sum = tra_point + tra_area"
   ]
  },
  {
   "cell_type": "code",
   "execution_count": 4,
   "metadata": {},
   "outputs": [
    {
     "name": "stdout",
     "output_type": "stream",
     "text": [
      "1.067473\n",
      "0.002648546\n",
      "1.0701216\n"
     ]
    }
   ],
   "source": [
    "print(tra_area.NOx.mean().data)\n",
    "print(tra_point.NOx.mean().data)\n",
    "print(tra_sum.NOx.mean().data)"
   ]
  },
  {
   "cell_type": "code",
   "execution_count": 5,
   "metadata": {},
   "outputs": [],
   "source": [
    "ind_sum.to_netcdf('D:/Download/Industry.nc')\n",
    "pow_sum.to_netcdf('D:/Download/Power.nc')\n",
    "res_sum.to_netcdf('D:/Download/Residential.nc')\n",
    "tra_sum.to_netcdf('D:/Download/Transportation.nc')"
   ]
  }
 ],
 "metadata": {
  "kernelspec": {
   "display_name": "base",
   "language": "python",
   "name": "python3"
  },
  "language_info": {
   "codemirror_mode": {
    "name": "ipython",
    "version": 3
   },
   "file_extension": ".py",
   "mimetype": "text/x-python",
   "name": "python",
   "nbconvert_exporter": "python",
   "pygments_lexer": "ipython3",
   "version": "3.10.12"
  },
  "orig_nbformat": 4
 },
 "nbformat": 4,
 "nbformat_minor": 2
}
