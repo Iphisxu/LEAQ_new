{
 "cells": [
  {
   "cell_type": "markdown",
   "metadata": {},
   "source": [
    "# 安徽安庆市项目\n",
    "## 本地排放清单预处理`Local Emission Inventory`\n",
    "\n",
    "---\n",
    "*@author: Evan*\\\n",
    "*@date: 2023-10-05*"
   ]
  },
  {
   "cell_type": "code",
   "execution_count": 1,
   "metadata": {},
   "outputs": [],
   "source": [
    "import xarray as xr\n",
    "import numpy as np\n",
    "import pandas as pd\n",
    "import os\n",
    "\n",
    "# silence the warning note\n",
    "import warnings\n",
    "warnings.filterwarnings(\"ignore\")\n",
    "\n",
    "import sys\n",
    "sys.path.append('../../src/')\n",
    "from namelist import *\n",
    "import findpoint as fp"
   ]
  },
  {
   "cell_type": "code",
   "execution_count": 5,
   "metadata": {},
   "outputs": [],
   "source": [
    "path      = datadir + 'step1_preliminary/leaq_category/'\n",
    "pointpath = path + 'point_source/'\n",
    "areapath  = path + 'area_source/'\n",
    "\n",
    "output_path = path + 'sum/'\n",
    "\n",
    "ALL_categories = ['Biomass', 'Boiler', 'Building', 'Dust', 'NonRoad', \n",
    "                  'Electric', 'Other', 'Road', 'Petrochemicals', 'Solvent']"
   ]
  },
  {
   "cell_type": "markdown",
   "metadata": {},
   "source": [
    "检查两个路径下的文件，如有同名文件则相加后输出，如果无同名文件，则直接复制输出"
   ]
  },
  {
   "cell_type": "code",
   "execution_count": 7,
   "metadata": {},
   "outputs": [
    {
     "name": "stdout",
     "output_type": "stream",
     "text": [
      "Merge Biomass\n",
      "Copy Boiler\n",
      "Copy Building\n",
      "Merge Dust\n",
      "Copy Electric\n",
      "Merge Other\n",
      "Copy Petrochemicals\n",
      "Merge Solvent\n",
      "Copy NonRoad\n",
      "Copy Road\n"
     ]
    }
   ],
   "source": [
    "import shutil\n",
    "\n",
    "pfiles = [file for file in os.listdir(pointpath) if file.endswith('.nc')]\n",
    "\n",
    "for pfile in pfiles:\n",
    "    pfile_path = os.path.join(pointpath, pfile)\n",
    "    afile_path = os.path.join(areapath, pfile)\n",
    "    \n",
    "    if os.path.exists(afile_path):\n",
    "        pdata = xr.open_dataset(pfile_path)\n",
    "        adata = xr.open_dataset(afile_path)\n",
    "        sum_data = pdata + adata\n",
    "        output_file = os.path.join(output_path, pfile)\n",
    "        sum_data.to_netcdf(output_file)\n",
    "        sum_data.close()\n",
    "        \n",
    "        print(f'Merge {pfile.split(\".\")[0]}')\n",
    "    else:\n",
    "        output_file = os.path.join(output_path, pfile)\n",
    "        shutil.copyfile(pfile_path, output_file)\n",
    "        \n",
    "        print(f'Copy {pfile.split(\".\")[0]}')\n",
    "\n",
    "afiles = [file for file in os.listdir(areapath) if file.endswith('.nc')]\n",
    "\n",
    "for afile in afiles:\n",
    "    afile_path = os.path.join(areapath, afile)\n",
    "    output_file = os.path.join(output_path, afile)\n",
    "    \n",
    "    if not os.path.exists(os.path.join(pointpath, afile)):\n",
    "        shutil.copyfile(afile_path, output_file)\n",
    "        \n",
    "        print(f'Copy {afile.split(\".\")[0]}')\n"
   ]
  }
 ],
 "metadata": {
  "kernelspec": {
   "display_name": "base",
   "language": "python",
   "name": "python3"
  },
  "language_info": {
   "codemirror_mode": {
    "name": "ipython",
    "version": 3
   },
   "file_extension": ".py",
   "mimetype": "text/x-python",
   "name": "python",
   "nbconvert_exporter": "python",
   "pygments_lexer": "ipython3",
   "version": "3.10.12"
  },
  "orig_nbformat": 4
 },
 "nbformat": 4,
 "nbformat_minor": 2
}
