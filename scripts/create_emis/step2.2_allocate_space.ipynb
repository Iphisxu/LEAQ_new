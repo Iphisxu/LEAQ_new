{
 "cells": [
  {
   "cell_type": "markdown",
   "metadata": {},
   "source": [
    "# 安徽安庆市项目\n",
    "## 将MEIC中本地清单的范围设为0\n",
    "## `Set MEIC to 0 in Anqing`\n",
    "\n",
    "---\n",
    "*@author: Evan*\\\n",
    "*@date: 2023-10-05*"
   ]
  },
  {
   "cell_type": "code",
   "execution_count": 1,
   "metadata": {},
   "outputs": [],
   "source": [
    "import xarray as xr\n",
    "import numpy as np\n",
    "import pandas as pd\n",
    "import os\n",
    "\n",
    "# silence the warning note\n",
    "import warnings\n",
    "warnings.filterwarnings(\"ignore\")\n",
    "\n",
    "import sys\n",
    "sys.path.append('../../src/')\n",
    "from namelist import *\n",
    "from integrate import *"
   ]
  },
  {
   "cell_type": "code",
   "execution_count": 2,
   "metadata": {},
   "outputs": [],
   "source": [
    "ncfile = xr.open_dataset(progdir + 'GRIDCRO2D_2023141.nc')\n",
    "lon = ncfile.LON.squeeze()\n",
    "lat = ncfile.LAT.squeeze()\n",
    "\n",
    "shp = gpd.read_file(progdir + 'shapefile/Anqing/Anqing.shp')\n",
    "\n",
    "mask = polygon_to_mask(shp.geometry[0],lon,lat)\n",
    "mask_da = xr.DataArray(mask,dims=('ROW','COL'))"
   ]
  },
  {
   "cell_type": "code",
   "execution_count": 9,
   "metadata": {},
   "outputs": [],
   "source": [
    "sections = ['ind','pow','tra','res','agr']\n",
    "\n",
    "for sec in sections:\n",
    "    ds_meic = xr.open_dataset(eval(f'meic_{sec}_file'))\n",
    "    for var_name,var in ds_meic.items():\n",
    "        # 将位于mask内的值设为0\n",
    "        ds_meic[var_name] = ds_meic[var_name].where(~mask_da, 0)\n",
    "    ds_meic.to_netcdf(datadir + f'step2_meic_and_leaq/emis.CN3AH_135X138.{sec}.ncf')"
   ]
  }
 ],
 "metadata": {
  "kernelspec": {
   "display_name": "base",
   "language": "python",
   "name": "python3"
  },
  "language_info": {
   "codemirror_mode": {
    "name": "ipython",
    "version": 3
   },
   "file_extension": ".py",
   "mimetype": "text/x-python",
   "name": "python",
   "nbconvert_exporter": "python",
   "pygments_lexer": "ipython3",
   "version": "3.10.12"
  },
  "orig_nbformat": 4
 },
 "nbformat": 4,
 "nbformat_minor": 2
}
